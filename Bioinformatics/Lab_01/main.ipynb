{
 "cells": [
  {
   "cell_type": "markdown",
   "metadata": {},
   "source": [
    "# Лабораторная 1"
   ]
  },
  {
   "cell_type": "code",
   "execution_count": 1,
   "metadata": {},
   "outputs": [],
   "source": [
    "from Bio import SeqIO, Entrez, SeqUtils, BiopythonParserWarning, Seq, BiopythonWarning\n",
    "from Bio.PDB.PDBExceptions import PDBConstructionWarning\n",
    "import warnings\n",
    "from bs4 import BeautifulSoup\n",
    "import re\n",
    "\n",
    "\n",
    "Entrez.email = 'fuck'\n",
    "warnings.filterwarnings(\"ignore\", category=BiopythonWarning)\n",
    "warnings.filterwarnings(\"ignore\", category=BiopythonParserWarning)\n",
    "warnings.filterwarnings(\"ignore\", category=PDBConstructionWarning)"
   ]
  },
  {
   "cell_type": "markdown",
   "metadata": {},
   "source": [
    "## 1. Подсчитать GC-content для гена с идентификатором X53950.1 (последовательность взять в GeneBank)."
   ]
  },
  {
   "cell_type": "code",
   "execution_count": 2,
   "metadata": {},
   "outputs": [
    {
     "data": {
      "text/plain": [
       "35.73213393303348"
      ]
     },
     "execution_count": 2,
     "metadata": {},
     "output_type": "execute_result"
    }
   ],
   "source": [
    "with Entrez.efetch(db='nucleotide', id='X53950.1', rettype='gb') as f:\n",
    "    seq_record = SeqIO.read(f, 'gb')\n",
    "SeqUtils.GC(seq_record.seq)"
   ]
  },
  {
   "cell_type": "markdown",
   "metadata": {},
   "source": [
    "## 2. Получить последовательность fasta из pdb файла (файл – frompdb.pdb), каждая цепь (последовательность) записывается отдельно со своим заголовком."
   ]
  },
  {
   "cell_type": "code",
   "execution_count": 3,
   "metadata": {},
   "outputs": [
    {
     "name": "stdout",
     "output_type": "stream",
     "text": [
      ">????:A\r\n",
      "ADVQQKLAELERQSGGRLGVALINTADNSQIXLYRADERFPMCSTSKVMAAAAVLKQSET\r\n",
      "QKQLLNQPVEIKPADLVNYNPIAEKHVNGTMTLAELSAAALQYSDNTAMNKLIAQLGGPG\r\n",
      "GVTAFARAIGDETFRLDRTEPTLNTAIPGDPRDTTTPRAMAQTLRQLTLGHALGETQRAQ\r\n",
      "LVTWLKGNTTGAASIRAGLPASWVVGDKTGSGXGYGTTNDIAVIWPKDRAPLILVTYFTQ\r\n",
      "PQPKAESRRDVLASAAKIVTDG\r\n",
      ">????:B\r\n",
      "ADVQQKLAELERQSGGRLGVALINTADNSQIXLYRADERFPMCSTSKVMAAAAVLKQSET\r\n",
      "QKQLLNQPVEIKPADLVNYNPIAEKHVNGTMTLAELSAAALQYSDNTAMNKLIAQLGGPG\r\n",
      "GVTAFARAIGDETFRLDRTEPTLNTAIPGDPRDTTTPRAMAQTLRQLTLGHALGETQRAQ\r\n",
      "LVTWLKGNTTGAASIRAGLPASWVVGDKTGSGXGYGTTNDIAVIWPKDRAPLILVTYFTQ\r\n",
      "PQPKAESRRDVLASAAKIVTDG\r\n"
     ]
    }
   ],
   "source": [
    "SeqIO.convert(\"frompdb.pdb\", \"pdb-atom\", \"frompdb.fasta\", \"fasta\")\n",
    "!cat frompdb.fasta"
   ]
  },
  {
   "cell_type": "markdown",
   "metadata": {},
   "source": [
    "## 3. Перевести ДНК последовательность в РНК, а потом в белок (файл dna.txt)"
   ]
  },
  {
   "cell_type": "code",
   "execution_count": 4,
   "metadata": {},
   "outputs": [
    {
     "data": {
      "text/plain": [
       "Seq('GGGATGGCAATAACCCCCCGTTTCTACTTCTAGAGGAGAAAAGTATTGACATGA...GAT')"
      ]
     },
     "execution_count": 4,
     "metadata": {},
     "output_type": "execute_result"
    }
   ],
   "source": [
    "dna = Seq.Seq(open('dna.txt').read()[:-1])\n",
    "dna"
   ]
  },
  {
   "cell_type": "code",
   "execution_count": 5,
   "metadata": {
    "scrolled": true
   },
   "outputs": [
    {
     "data": {
      "text/plain": [
       "Seq('GGGAUGGCAAUAACCCCCCGUUUCUACUUCUAGAGGAGAAAAGUAUUGACAUGA...GAU')"
      ]
     },
     "execution_count": 5,
     "metadata": {},
     "output_type": "execute_result"
    }
   ],
   "source": [
    "rna = dna.transcribe()\n",
    "rna"
   ]
  },
  {
   "cell_type": "code",
   "execution_count": 6,
   "metadata": {
    "scrolled": true
   },
   "outputs": [
    {
     "data": {
      "text/plain": [
       "[Seq('GMAITPRFYF'),\n",
       " Seq('RRKVLT'),\n",
       " Seq('ALPAQGPKKSPISYFRMTCVSLRVNHRPQFIEAWGNR'),\n",
       " Seq('V'),\n",
       " Seq('LA')]"
      ]
     },
     "execution_count": 6,
     "metadata": {},
     "output_type": "execute_result"
    }
   ],
   "source": [
    "kek = rna.translate()\n",
    "kek.split('*')[:5]"
   ]
  },
  {
   "cell_type": "markdown",
   "metadata": {},
   "source": [
    "## 4. Сделать url запрос в GeneBank по идентификатору гена 7157, распарсить полученный файл, чтобы найти информацию: идентификатор в Uniprot кодируемого этим геном белка."
   ]
  },
  {
   "cell_type": "code",
   "execution_count": 7,
   "metadata": {},
   "outputs": [
    {
     "data": {
      "text/plain": [
       "'P04637'"
      ]
     },
     "execution_count": 7,
     "metadata": {},
     "output_type": "execute_result"
    }
   ],
   "source": [
    "with Entrez.efetch(db='gene', id='7157', rattype='gb', retmode='xml') as f:\n",
    "    soup = BeautifulSoup(f, 'xml')\n",
    "soup(string=re.compile('uniprot'))[0].split('/')[-1]"
   ]
  },
  {
   "cell_type": "markdown",
   "metadata": {},
   "source": [
    "## 5. Поиск мотивов в последовательности с помощью регулярных выражений (dna.txt).\n",
    "Найти все мотивы (указать индексы начала мотивов в последовательности):\n",
    "*    __GCNGC__, где N означает любой нуклеотид – сайт, который находит BisI restriction enzyme.\n",
    "*    Определить эукариотическую мРНК:\n",
    "ATG – стартовый кодон.\n",
    "За стартовым кодоном следует последовательность из нуклеотидов (A, T, G или C) длиной от 30 до 1000\n",
    "Затем следует __полиА-хвост__ (последовательность, состоящая только из А нуклеотидов) длиной от 5 до 10\n"
   ]
  },
  {
   "cell_type": "code",
   "execution_count": 8,
   "metadata": {},
   "outputs": [
    {
     "data": {
      "text/plain": [
       "[296, 580, 1101, 1562, 1721, 1779]"
      ]
     },
     "execution_count": 8,
     "metadata": {},
     "output_type": "execute_result"
    }
   ],
   "source": [
    "[x.start() for x in re.finditer('GC.GC', str(dna))]"
   ]
  },
  {
   "cell_type": "code",
   "execution_count": 9,
   "metadata": {},
   "outputs": [
    {
     "data": {
      "text/plain": [
       "[102]"
      ]
     },
     "execution_count": 9,
     "metadata": {},
     "output_type": "execute_result"
    }
   ],
   "source": [
    "[x.start() for x in re.finditer('ATG[ATGC]{30,1000}A{5,10}', str(dna))]"
   ]
  }
 ],
 "metadata": {
  "kernelspec": {
   "display_name": "Python 3",
   "language": "python",
   "name": "python3"
  },
  "language_info": {
   "codemirror_mode": {
    "name": "ipython",
    "version": 3
   },
   "file_extension": ".py",
   "mimetype": "text/x-python",
   "name": "python",
   "nbconvert_exporter": "python",
   "pygments_lexer": "ipython3",
   "version": "3.6.9"
  }
 },
 "nbformat": 4,
 "nbformat_minor": 4
}
