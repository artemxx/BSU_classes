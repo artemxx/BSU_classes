{
 "cells": [
  {
   "cell_type": "markdown",
   "metadata": {},
   "source": [
    "# Теория. Задание 1 "
   ]
  },
  {
   "cell_type": "markdown",
   "metadata": {},
   "source": [
    "Буду искать белки, с похожей аминокислотной последовательностью на уровне первичной структуры . Затем можно запустить какое-нибудь эволюционное дерево, отжиг и тд. Это может помочь предсказать структуру белка.\n",
    "\n",
    "Еще поиграюсь в FoldIt, вдруг замечу какую-то интересную особенность белка.\n",
    "\n",
    "Еще могу порезать белок на маленькие куски и посмотреть, какую структуру каждый из этих кусочков обычно имеет в других белках. Таким образом, я увеличиваю алфавит с 20 аминокислот до какого-то большого числа кусков, но зато существенно сокращаю длину, так что теперь предсказывать мне будет гораздо проще. "
   ]
  },
  {
   "cell_type": "code",
   "execution_count": null,
   "metadata": {},
   "outputs": [],
   "source": []
  },
  {
   "cell_type": "code",
   "execution_count": null,
   "metadata": {},
   "outputs": [],
   "source": []
  },
  {
   "cell_type": "markdown",
   "metadata": {},
   "source": [
    "# Задание 1"
   ]
  },
  {
   "cell_type": "code",
   "execution_count": 34,
   "metadata": {},
   "outputs": [],
   "source": [
    "import numpy as np\n",
    "from termcolor import colored"
   ]
  },
  {
   "cell_type": "code",
   "execution_count": 35,
   "metadata": {},
   "outputs": [],
   "source": [
    "def needleman_wunsch_algorithm(s, t, verbose=False, end=' \\t'):\n",
    "    n = len(s)\n",
    "    m = len(t)\n",
    "    defult_value = np.empty((), dtype=object)\n",
    "    defult_value[()] = (0, 0)\n",
    "    anc = np.full(shape=(n + 1, m + 1), fill_value=defult_value, dtype=object)\n",
    "    dp = np.full(shape=(n + 1, m + 1), fill_value=np.iinfo(np.int32).max)\n",
    "    \n",
    "    for i in range(n + 1):\n",
    "        dp[i][0] = i\n",
    "        anc[i][0] = (i - 1, 0)\n",
    "    for i in range(m + 1):\n",
    "        dp[0][i] = i\n",
    "        anc[0][i] = (0, i - 1)\n",
    "        \n",
    "    def update(x, y, prev_x, prev_y, penalty):\n",
    "        if dp[x][y] > dp[prev_x][prev_y] + penalty:\n",
    "            dp[x][y] = dp[prev_x][prev_y] + penalty\n",
    "            anc[x][y] = (prev_x, prev_y)\n",
    "    \n",
    "    for i in range(1, n + 1):\n",
    "        for j in range(1, m + 1):\n",
    "            update(i, j, i - 1, j, 1)\n",
    "            update(i, j, i, j - 1, 1)\n",
    "            penalty = -1\n",
    "            if s[i - 1] != t[j - 1]:\n",
    "                penalty = 1\n",
    "            update(i, j, i - 1, j - 1, penalty)\n",
    "\n",
    "    x, y = n, m\n",
    "    result = []\n",
    "    on_path = set()\n",
    "    while x != 0 or y != 0:\n",
    "        on_path.add((x, y))\n",
    "        prev_x, prev_y = anc[x][y]\n",
    "        if prev_x + 1 == x and prev_y + 1 == y:\n",
    "            if s[prev_x] == t[prev_y]:\n",
    "                result.append((s[prev_x], t[prev_y], 'black'))\n",
    "            else:\n",
    "                result.append((s[prev_x], t[prev_y], 'red'))\n",
    "        if prev_x + 1 == x and prev_y == y:\n",
    "            result.append((s[prev_x], '-', 'red'))\n",
    "        if prev_x == x and prev_y + 1 == y:\n",
    "            result.append(('-', t[prev_y], 'red'))\n",
    "        x, y = prev_x, prev_y\n",
    "    on_path.add((x, y))\n",
    "        \n",
    "    def print_with_color(c, color):\n",
    "        if color != 'black':\n",
    "            print(colored(c, color), end='')\n",
    "        else:\n",
    "            print(c, end='')\n",
    "    \n",
    "    cnt = 0\n",
    "    for c, _, color in reversed(result):\n",
    "        cnt += color == 'red'\n",
    "        print_with_color(c, color)\n",
    "#     assert cnt == dp[len(s)][len(t)]\n",
    "    print()\n",
    "    \n",
    "    for _, c, color in reversed(result):\n",
    "        print_with_color(c, color)\n",
    "    print()\n",
    "    \n",
    "    if verbose:\n",
    "        for i in range(n + 1):\n",
    "            if i != 0:\n",
    "                print(colored(s[i - 1], 'magenta', attrs=['bold']), end=end)\n",
    "            else:\n",
    "                print(' ', end=end)\n",
    "                print(' ', end=end)\n",
    "                for j in range(m):\n",
    "                    print(colored(t[j - 1], 'magenta', attrs=['bold']), end=end)\n",
    "                print()\n",
    "                print(' ', end=end)\n",
    "            for j in range(m + 1):\n",
    "                if (i, j) in on_path:\n",
    "                    print(colored(dp[i][j], 'red', attrs=['bold']), end=end)\n",
    "                else:\n",
    "                    print(dp[i][j], end=end)\n",
    "            print()\n",
    "    \n",
    "    return dp[len(s)][len(t)]"
   ]
  },
  {
   "cell_type": "code",
   "execution_count": 36,
   "metadata": {},
   "outputs": [
    {
     "name": "stdout",
     "output_type": "stream",
     "text": [
      "CAGC\u001b[31mA\u001b[0m\u001b[31mC\u001b[0m\u001b[31mT\u001b[0m\u001b[31mT\u001b[0mG\u001b[31mG\u001b[0m\u001b[31mA\u001b[0mT\u001b[31mT\u001b[0m\u001b[31mC\u001b[0m\u001b[31mT\u001b[0m\u001b[31mC\u001b[0mGG\n",
      "CAGC\u001b[31m-\u001b[0m\u001b[31m-\u001b[0m\u001b[31m-\u001b[0m\u001b[31m-\u001b[0mG\u001b[31m-\u001b[0m\u001b[31m-\u001b[0mT\u001b[31m-\u001b[0m\u001b[31m-\u001b[0m\u001b[31m-\u001b[0m\u001b[31m-\u001b[0mGG\n",
      " \t \t\u001b[1m\u001b[35mG\u001b[0m\t\u001b[1m\u001b[35mC\u001b[0m\t\u001b[1m\u001b[35mA\u001b[0m\t\u001b[1m\u001b[35mG\u001b[0m\t\u001b[1m\u001b[35mC\u001b[0m\t\u001b[1m\u001b[35mG\u001b[0m\t\u001b[1m\u001b[35mT\u001b[0m\t\u001b[1m\u001b[35mG\u001b[0m\t\n",
      " \t\u001b[1m\u001b[31m0\u001b[0m\t1\t2\t3\t4\t5\t6\t7\t8\t\n",
      "\u001b[1m\u001b[35mC\u001b[0m\t1\t\u001b[1m\u001b[31m-1\u001b[0m\t0\t1\t2\t3\t4\t5\t6\t\n",
      "\u001b[1m\u001b[35mA\u001b[0m\t2\t0\t\u001b[1m\u001b[31m-2\u001b[0m\t-1\t0\t1\t2\t3\t4\t\n",
      "\u001b[1m\u001b[35mG\u001b[0m\t3\t1\t-1\t\u001b[1m\u001b[31m-3\u001b[0m\t-2\t-1\t0\t1\t2\t\n",
      "\u001b[1m\u001b[35mC\u001b[0m\t4\t2\t0\t-2\t\u001b[1m\u001b[31m-4\u001b[0m\t-3\t-2\t-1\t0\t\n",
      "\u001b[1m\u001b[35mA\u001b[0m\t5\t3\t1\t-1\t\u001b[1m\u001b[31m-3\u001b[0m\t-3\t-2\t-1\t0\t\n",
      "\u001b[1m\u001b[35mC\u001b[0m\t6\t4\t2\t0\t\u001b[1m\u001b[31m-2\u001b[0m\t-2\t-2\t-1\t0\t\n",
      "\u001b[1m\u001b[35mT\u001b[0m\t7\t5\t3\t1\t\u001b[1m\u001b[31m-1\u001b[0m\t-1\t-3\t-2\t-1\t\n",
      "\u001b[1m\u001b[35mT\u001b[0m\t8\t6\t4\t2\t\u001b[1m\u001b[31m0\u001b[0m\t0\t-2\t-2\t-1\t\n",
      "\u001b[1m\u001b[35mG\u001b[0m\t9\t7\t5\t3\t1\t\u001b[1m\u001b[31m-1\u001b[0m\t-1\t-3\t-3\t\n",
      "\u001b[1m\u001b[35mG\u001b[0m\t10\t8\t6\t4\t2\t\u001b[1m\u001b[31m0\u001b[0m\t0\t-2\t-4\t\n",
      "\u001b[1m\u001b[35mA\u001b[0m\t11\t9\t7\t5\t3\t\u001b[1m\u001b[31m1\u001b[0m\t1\t-1\t-3\t\n",
      "\u001b[1m\u001b[35mT\u001b[0m\t12\t10\t8\t6\t4\t2\t\u001b[1m\u001b[31m0\u001b[0m\t0\t-2\t\n",
      "\u001b[1m\u001b[35mT\u001b[0m\t13\t11\t9\t7\t5\t3\t\u001b[1m\u001b[31m1\u001b[0m\t1\t-1\t\n",
      "\u001b[1m\u001b[35mC\u001b[0m\t14\t12\t10\t8\t6\t4\t\u001b[1m\u001b[31m2\u001b[0m\t2\t0\t\n",
      "\u001b[1m\u001b[35mT\u001b[0m\t15\t13\t11\t9\t7\t5\t\u001b[1m\u001b[31m3\u001b[0m\t3\t1\t\n",
      "\u001b[1m\u001b[35mC\u001b[0m\t16\t14\t12\t10\t8\t6\t\u001b[1m\u001b[31m4\u001b[0m\t4\t2\t\n",
      "\u001b[1m\u001b[35mG\u001b[0m\t17\t15\t13\t11\t9\t7\t5\t\u001b[1m\u001b[31m3\u001b[0m\t3\t\n",
      "\u001b[1m\u001b[35mG\u001b[0m\t18\t16\t14\t12\t10\t8\t6\t4\t\u001b[1m\u001b[31m2\u001b[0m\t\n"
     ]
    },
    {
     "data": {
      "text/plain": [
       "2"
      ]
     },
     "execution_count": 36,
     "metadata": {},
     "output_type": "execute_result"
    }
   ],
   "source": [
    "needleman_wunsch_algorithm('CAGCACTTGGATTCTCGG', 'CAGCGTGG', verbose=True, end='\\t')"
   ]
  },
  {
   "cell_type": "markdown",
   "metadata": {},
   "source": [
    "# Задание 2"
   ]
  },
  {
   "cell_type": "code",
   "execution_count": 37,
   "metadata": {},
   "outputs": [],
   "source": [
    "from Bio.Align import MultipleSeqAlignment\n",
    "from Bio.Alphabet import generic_dna\n",
    "from Bio.SeqRecord import SeqRecord\n",
    "from Bio.Seq import Seq"
   ]
  },
  {
   "cell_type": "code",
   "execution_count": 38,
   "metadata": {},
   "outputs": [
    {
     "name": "stdout",
     "output_type": "stream",
     "text": [
      "DNAAlphabet() alignment with 10 rows and 8 columns\n",
      "ACTCATGG 0\n",
      "AAGCACGG 1\n",
      "AAGCAAGG 2\n",
      "AATCAGGG 3\n",
      "AAGTATGG 4\n",
      "AAGCAGGG 5\n",
      "TCTCACGG 6\n",
      "CCTCGTGG 7\n",
      "CCGTATGG 8\n",
      "ACTCGTCG 9\n"
     ]
    }
   ],
   "source": [
    "records = [\n",
    "    'ACTCATGG',\n",
    "    'AAGCACGG',\n",
    "    'AAGCAAGG',\n",
    "    'AATCAGGG',\n",
    "    'AAGTATGG',\n",
    "    'AAGCAGGG',\n",
    "    'TCTCACGG',\n",
    "    'CCTCGTGG',\n",
    "    'CCGTATGG',\n",
    "    'ACTCGTCG'\n",
    "]\n",
    "\n",
    "records = [\n",
    "    SeqRecord(Seq(record, generic_dna), id=str(i))\n",
    "    for i, record in enumerate(records)\n",
    "]\n",
    "\n",
    "align = MultipleSeqAlignment(records, annotations={\"tool\": \"demo\"})\n",
    "align.sort()\n",
    "print(align)"
   ]
  },
  {
   "cell_type": "code",
   "execution_count": null,
   "metadata": {},
   "outputs": [],
   "source": []
  },
  {
   "cell_type": "code",
   "execution_count": null,
   "metadata": {},
   "outputs": [],
   "source": []
  },
  {
   "cell_type": "code",
   "execution_count": null,
   "metadata": {},
   "outputs": [],
   "source": []
  },
  {
   "cell_type": "code",
   "execution_count": null,
   "metadata": {},
   "outputs": [],
   "source": []
  },
  {
   "cell_type": "markdown",
   "metadata": {},
   "source": [
    "# Задание 3"
   ]
  },
  {
   "cell_type": "code",
   "execution_count": 2,
   "metadata": {},
   "outputs": [
    {
     "ename": "ImportError",
     "evalue": "No module named Bio",
     "output_type": "error",
     "traceback": [
      "\u001b[0;31m---------------------------------------------------------------------------\u001b[0m",
      "\u001b[0;31mImportError\u001b[0m                               Traceback (most recent call last)",
      "\u001b[0;32m<ipython-input-2-82507a699951>\u001b[0m in \u001b[0;36m<module>\u001b[0;34m()\u001b[0m\n\u001b[0;32m----> 1\u001b[0;31m \u001b[0;32mfrom\u001b[0m \u001b[0mBio\u001b[0m \u001b[0;32mimport\u001b[0m \u001b[0mSeqIO\u001b[0m\u001b[0;34m\u001b[0m\u001b[0m\n\u001b[0m\u001b[1;32m      2\u001b[0m \u001b[0;34m\u001b[0m\u001b[0m\n\u001b[1;32m      3\u001b[0m \u001b[0mSeqIO\u001b[0m\u001b[0;34m.\u001b[0m\u001b[0mconvert\u001b[0m\u001b[0;34m(\u001b[0m\u001b[0;34m'cl.fq'\u001b[0m\u001b[0;34m,\u001b[0m \u001b[0;34m'fastq'\u001b[0m\u001b[0;34m,\u001b[0m \u001b[0;34m'cl.fasta'\u001b[0m\u001b[0;34m,\u001b[0m \u001b[0;34m'fasta'\u001b[0m\u001b[0;34m)\u001b[0m\u001b[0;34m\u001b[0m\u001b[0m\n",
      "\u001b[0;31mImportError\u001b[0m: No module named Bio"
     ]
    }
   ],
   "source": [
    "from Bio import SeqIO\n",
    "\n",
    "SeqIO.convert('cl.fq', 'fastq', 'cl.fasta', 'fasta')"
   ]
  },
  {
   "cell_type": "markdown",
   "metadata": {},
   "source": [
    "# Задание 4"
   ]
  },
  {
   "cell_type": "code",
   "execution_count": 40,
   "metadata": {},
   "outputs": [
    {
     "name": "stdout",
     "output_type": "stream",
     "text": [
      "5'-TAGGCTACGATCC-3'\n"
     ]
    }
   ],
   "source": [
    "from Bio import Seq\n",
    "\n",
    "dna = Seq.Seq('GGATCGTAGCCTA')\n",
    "s = '5\\'-' + str(dna.reverse_complement()) + '-3\\''\n",
    "print(s)"
   ]
  },
  {
   "cell_type": "markdown",
   "metadata": {},
   "source": [
    "# Задание 5"
   ]
  },
  {
   "cell_type": "code",
   "execution_count": 3,
   "metadata": {},
   "outputs": [],
   "source": [
    "import matplotlib.pyplot as plt\n",
    "import numpy as np\n",
    "\n",
    "def draw_graphic(seq1, seq2, k=1):\n",
    "    matrix = [\n",
    "        [\n",
    "            np.sum(np.array(list(seq1[i:i+k])) == np.array(list(seq2[j:j+k])))\n",
    "            for j in range(len(seq2) - k + 1)\n",
    "        ] for i in range(len(seq1) - k + 1)\n",
    "    ]\n",
    "    matrix = np.flip(matrix, 0)\n",
    "    plt.imshow(matrix)\n",
    "    plt.colorbar()\n",
    "    plt.xticks(numpy.arange(len(seq2)), seq2)\n",
    "    plt.yticks(numpy.arange(len(seq1)), seq1[::-1])\n",
    "    plt.plot()"
   ]
  },
  {
   "cell_type": "code",
   "execution_count": 147,
   "metadata": {},
   "outputs": [
    {
     "data": {
      "image/png": "[encoded data removed]",
      "text/plain": [
       "<Figure size 432x288 with 2 Axes>"
      ]
     },
     "metadata": {
      "needs_background": "light"
     },
     "output_type": "display_data"
    }
   ],
   "source": [
    "draw_graphic('GCTAGTCAGATCTGACGCTA', 'GATGGTCACATCTGCCGC', 1)"
   ]
  },
  {
   "cell_type": "code",
   "execution_count": 149,
   "metadata": {},
   "outputs": [
    {
     "data": {
      "image/png": "[encoded data removed]",
      "text/plain": [
       "<Figure size 432x288 with 2 Axes>"
      ]
     },
     "metadata": {
      "needs_background": "light"
     },
     "output_type": "display_data"
    }
   ],
   "source": [
    "draw_graphic('GCTAGTCAGATCTGACGCTA', 'GATGGTCACATCTGCCGC', 2)"
   ]
  },
  {
   "cell_type": "code",
   "execution_count": 150,
   "metadata": {},
   "outputs": [
    {
     "data": {
      "image/png": "[encoded data removed]",
      "text/plain": [
       "<Figure size 432x288 with 2 Axes>"
      ]
     },
     "metadata": {
      "needs_background": "light"
     },
     "output_type": "display_data"
    }
   ],
   "source": [
    "draw_graphic('GCTAGTCAGATCTGACGCTA', 'GATGGTCACATCTGCCGC', 3)"
   ]
  },
  {
   "cell_type": "code",
   "execution_count": 151,
   "metadata": {},
   "outputs": [
    {
     "data": {
      "image/png": "[encoded data removed]",
      "text/plain": [
       "<Figure size 432x288 with 2 Axes>"
      ]
     },
     "metadata": {
      "needs_background": "light"
     },
     "output_type": "display_data"
    }
   ],
   "source": [
    "draw_graphic('GCTAGTCAGATCTGACGCTA', 'GATGGTCACATCTGCCGC', 4)"
   ]
  },
  {
   "cell_type": "markdown",
   "metadata": {},
   "source": [
    "Диагональ графиков при разной ширине окна имеет много желтых клеток, а значит имеется область схожести."
   ]
  },
  {
   "cell_type": "markdown",
   "metadata": {},
   "source": [
    "# Задание 6"
   ]
  },
  {
   "cell_type": "markdown",
   "metadata": {},
   "source": [
    "В первом выравнивании гэпов больше и они короткие, во втором -- наоборот. Вывод: в первом выравнивании штраф за продолжение гэпа больше."
   ]
  },
  {
   "cell_type": "markdown",
   "metadata": {},
   "source": [
    "# Задание 13 (7-12 нет в задании)"
   ]
  },
  {
   "cell_type": "code",
   "execution_count": 41,
   "metadata": {},
   "outputs": [
    {
     "name": "stdout",
     "output_type": "stream",
     "text": [
      "\u001b[31mA\u001b[0m\u001b[31mA\u001b[0mCG\u001b[31mT\u001b[0mTA\u001b[31m-\u001b[0mC\n",
      "\u001b[31m-\u001b[0m\u001b[31m-\u001b[0mCG\u001b[31mA\u001b[0mTA\u001b[31mA\u001b[0mC\n",
      " \t \t\u001b[1m\u001b[35mC\u001b[0m\t\u001b[1m\u001b[35mC\u001b[0m\t\u001b[1m\u001b[35mG\u001b[0m\t\u001b[1m\u001b[35mA\u001b[0m\t\u001b[1m\u001b[35mT\u001b[0m\t\u001b[1m\u001b[35mA\u001b[0m\t\u001b[1m\u001b[35mA\u001b[0m\t\n",
      " \t\u001b[1m\u001b[31m0\u001b[0m\t1\t2\t3\t4\t5\t6\t7\t\n",
      "\u001b[1m\u001b[35mA\u001b[0m\t\u001b[1m\u001b[31m1\u001b[0m\t1\t2\t1\t2\t3\t4\t5\t\n",
      "\u001b[1m\u001b[35mA\u001b[0m\t\u001b[1m\u001b[31m2\u001b[0m\t2\t2\t1\t2\t1\t2\t3\t\n",
      "\u001b[1m\u001b[35mC\u001b[0m\t3\t\u001b[1m\u001b[31m1\u001b[0m\t2\t2\t2\t2\t2\t1\t\n",
      "\u001b[1m\u001b[35mG\u001b[0m\t4\t2\t\u001b[1m\u001b[31m0\u001b[0m\t1\t2\t3\t3\t2\t\n",
      "\u001b[1m\u001b[35mT\u001b[0m\t5\t3\t1\t\u001b[1m\u001b[31m1\u001b[0m\t0\t1\t2\t3\t\n",
      "\u001b[1m\u001b[35mT\u001b[0m\t6\t4\t2\t2\t\u001b[1m\u001b[31m0\u001b[0m\t1\t2\t3\t\n",
      "\u001b[1m\u001b[35mA\u001b[0m\t7\t5\t3\t1\t1\t\u001b[1m\u001b[31m-1\u001b[0m\t\u001b[1m\u001b[31m0\u001b[0m\t1\t\n",
      "\u001b[1m\u001b[35mC\u001b[0m\t8\t6\t4\t2\t2\t0\t0\t\u001b[1m\u001b[31m-1\u001b[0m\t\n"
     ]
    },
    {
     "data": {
      "text/plain": [
       "-1"
      ]
     },
     "execution_count": 41,
     "metadata": {},
     "output_type": "execute_result"
    }
   ],
   "source": [
    "needleman_wunsch_algorithm('AACGTTAC', 'CGATAAC', verbose=True, end='\\t')"
   ]
  },
  {
   "cell_type": "code",
   "execution_count": 42,
   "metadata": {},
   "outputs": [
    {
     "data": {
      "text/plain": [
       "[('AACGT-TA-C', '--CG-ATAAC', 5.0, 2, 10),\n",
       " ('AACGTTA-C', '--CGATAAC', 5.0, 2, 9),\n",
       " ('AACG-TTA-C', '--CGAT-AAC', 5.0, 2, 10),\n",
       " ('AACGT-T-AC', '--CG-ATAAC', 5.0, 2, 10),\n",
       " ('AACGTT-AC', '--CGATAAC', 5.0, 2, 9),\n",
       " ('AACG-TT-AC', '--CGAT-AAC', 5.0, 2, 10),\n",
       " ('AACG-TTAC', '--CGATAAC', 5.0, 2, 9)]"
      ]
     },
     "execution_count": 42,
     "metadata": {},
     "output_type": "execute_result"
    }
   ],
   "source": [
    "from Bio import pairwise2\n",
    "\n",
    "pairwise2.align.localxx('AACGTTAC', 'CGATAAC')"
   ]
  },
  {
   "cell_type": "code",
   "execution_count": 45,
   "metadata": {},
   "outputs": [
    {
     "name": "stdout",
     "output_type": "stream",
     "text": [
      "AACGT-TA-C\n",
      "  ||  || |\n",
      "--CG-ATAAC\n",
      "  Score=5\n",
      "\n",
      "AACGTTA-C\n",
      "  ||.|| |\n",
      "--CGATAAC\n",
      "  Score=5\n",
      "\n",
      "AACG-TTA-C\n",
      "  || | | |\n",
      "--CGAT-AAC\n",
      "  Score=5\n",
      "\n",
      "AACGT-T-AC\n",
      "  ||  | ||\n",
      "--CG-ATAAC\n",
      "  Score=5\n",
      "\n",
      "AACGTT-AC\n",
      "  ||.| ||\n",
      "--CGATAAC\n",
      "  Score=5\n",
      "\n",
      "AACG-TT-AC\n",
      "  || |  ||\n",
      "--CGAT-AAC\n",
      "  Score=5\n",
      "\n",
      "AACG-TTAC\n",
      "  || |.||\n",
      "--CGATAAC\n",
      "  Score=5\n",
      "\n"
     ]
    }
   ],
   "source": [
    "for a in pairwise2.align.localxx(\"AACGTTAC\", \"CGATAAC\"):\n",
    "    print(pairwise2.format_alignment(*a, full_sequences=True))"
   ]
  },
  {
   "cell_type": "markdown",
   "metadata": {},
   "source": [
    "# Задание 7 (которое после 14го) сфоткано"
   ]
  },
  {
   "cell_type": "code",
   "execution_count": null,
   "metadata": {},
   "outputs": [],
   "source": []
  }
 ],
 "metadata": {
  "kernelspec": {
   "display_name": "Python 2",
   "language": "python",
   "name": "python2"
  },
  "language_info": {
   "codemirror_mode": {
    "name": "ipython",
    "version": 2
   },
   "file_extension": ".py",
   "mimetype": "text/x-python",
   "name": "python",
   "nbconvert_exporter": "python",
   "pygments_lexer": "ipython2",
   "version": "2.7.17"
  }
 },
 "nbformat": 4,
 "nbformat_minor": 2
}
