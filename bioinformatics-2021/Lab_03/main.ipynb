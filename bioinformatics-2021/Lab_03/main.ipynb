{
 "cells": [
  {
   "cell_type": "code",
   "execution_count": 20,
   "metadata": {},
   "outputs": [],
   "source": [
    "import numpy as np\n",
    "from Bio.Align import substitution_matrices as sm\n",
    "\n",
    "\n",
    "def calc_dp(a, b, S, d=-5):\n",
    "    n, m = len(a)+1, len(b)+1\n",
    "    f = np.zeros(shape=(n, m))\n",
    "    \n",
    "    for i in range(1, n):\n",
    "        for j in range(1, m):\n",
    "            f[i, j] = max(f[i-1, j] + d, f[i, j-1] + d, f[i-1, j-1] + S[a[i-1], b[j-1]], 0)\n",
    "    return f\n",
    "\n",
    "\n",
    "def calc_path(f, a, b, d=-5):\n",
    "    n, m = len(a), len(b)\n",
    "    \n",
    "    def rec(i, j, state_a, state_b):\n",
    "        if f[i, j] == 0:\n",
    "            yield state_a[::-1], state_b[::-1]\n",
    "            return\n",
    "        if i > 0 and j > 0 and f[i, j] == f[i-1, j-1] + S[a[i-1], b[j-1]]:\n",
    "            yield from rec(i-1, j-1, state_a + a[i-1], state_b + b[j-1])\n",
    "        if i > 0 and f[i, j] == f[i-1, j] + d:\n",
    "            yield from rec(i-1, j, state_a + a[i-1], state_b + '-')\n",
    "        if j > 0 and f[i, j] == f[i, j-1] + d:\n",
    "            yield from rec(i, j-1, state_a + '-', state_b + b[j-1])\n",
    "    \n",
    "    idx = np.argmax(f)\n",
    "    x = idx // len(f[0])\n",
    "    y = idx % len(f[0])\n",
    "    return rec(x, y, '', '')"
   ]
  },
  {
   "cell_type": "code",
   "execution_count": 21,
   "metadata": {},
   "outputs": [
    {
     "name": "stdout",
     "output_type": "stream",
     "text": [
      "Matrix BLOSUM45:\n",
      "ARNDCQ ARNDCQ : score = 43.0\n",
      "('ARNDCQ', 'ARNDCQ')\n",
      "\n",
      "ARNDCQ RNDCQE : score = 38.0\n",
      "('RNDCQ', 'RNDCQ')\n",
      "\n",
      "RNDCQE ARNDCQ : score = 38.0\n",
      "('RNDCQ', 'RNDCQ')\n",
      "\n",
      "RNDCQE RNDCQE : score = 44.0\n",
      "('RNDCQE', 'RNDCQE')\n",
      "\n",
      "NDC ARNDCQ : score = 25.0\n",
      "('NDC', 'NDC')\n",
      "\n",
      "NDC RNDCQE : score = 25.0\n",
      "('NDC', 'NDC')\n",
      "\n",
      "\n",
      "Matrix PAM30:\n",
      "ARNDCQ ARNDCQ : score = 48.0\n",
      "('ARNDCQ', 'ARNDCQ')\n",
      "\n",
      "ARNDCQ RNDCQE : score = 42.0\n",
      "('RNDCQ', 'RNDCQ')\n",
      "\n",
      "RNDCQE ARNDCQ : score = 42.0\n",
      "('RNDCQ', 'RNDCQ')\n",
      "\n",
      "RNDCQE RNDCQE : score = 50.0\n",
      "('RNDCQE', 'RNDCQE')\n",
      "\n",
      "NDC ARNDCQ : score = 26.0\n",
      "('NDC', 'NDC')\n",
      "\n",
      "NDC RNDCQE : score = 26.0\n",
      "('NDC', 'NDC')\n",
      "\n",
      "\n"
     ]
    }
   ],
   "source": [
    "for name in ['BLOSUM45', 'PAM30']:\n",
    "    print('Matrix %s:' % name)\n",
    "    S = sm.load(name)\n",
    "    for a in ['ARNDCQ', 'RNDCQE', 'NDC']:\n",
    "        for b in ['ARNDCQ', 'RNDCQE']:\n",
    "            f = calc_dp(a, b, S)\n",
    "            print(a, b, ': score =', np.max(f))\n",
    "            for p in calc_path(f, a, b):\n",
    "                print(p)\n",
    "            print()\n",
    "    print()"
   ]
  }
 ],
 "metadata": {
  "kernelspec": {
   "display_name": "Python 3",
   "language": "python",
   "name": "python3"
  },
  "language_info": {
   "codemirror_mode": {
    "name": "ipython",
    "version": 3
   },
   "file_extension": ".py",
   "mimetype": "text/x-python",
   "name": "python",
   "nbconvert_exporter": "python",
   "pygments_lexer": "ipython3",
   "version": "3.6.9"
  }
 },
 "nbformat": 4,
 "nbformat_minor": 4
}
